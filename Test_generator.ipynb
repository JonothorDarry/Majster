{
 "cells": [
  {
   "cell_type": "code",
   "execution_count": 3,
   "id": "overhead-camping",
   "metadata": {},
   "outputs": [],
   "source": [
    "from sultan.api import Sultan\n",
    "import random\n",
    "import os\n",
    "import kappa"
   ]
  },
  {
   "cell_type": "code",
   "execution_count": 4,
   "id": "entitled-patio",
   "metadata": {},
   "outputs": [],
   "source": [
    "s = Sultan()\n",
    "if not os.path.exists('./test_multiple'):\n",
    "    s.mkdir('./test_multiple').run()\n",
    "    s.mkdir('./test_single').run()"
   ]
  },
  {
   "cell_type": "code",
   "execution_count": 5,
   "id": "acquired-medicare",
   "metadata": {},
   "outputs": [],
   "source": [
    "basic_death = 100000000000\n",
    "n = kappa.amount_of_tests_large_files\n",
    "\n",
    "for i in range(kappa.large_files):\n",
    "    based_death = basic_death//pow(10, i)\n",
    "    with open(f'test_multiple/test_{i}.txt', 'w+') as test:\n",
    "        test.write(f'{n}\\n')\n",
    "        for i in range(n):\n",
    "            test.write(f'{random.randint(1, based_death)}\\n')"
   ]
  },
  {
   "cell_type": "code",
   "execution_count": 7,
   "id": "governing-scotland",
   "metadata": {},
   "outputs": [],
   "source": [
    "for i in range(kappa.small_files):\n",
    "    based_death = basic_death//pow(10, i//kappa.dividing_line_small)\n",
    "    with open(f'test_single/test_{i}.txt', 'w+') as test:\n",
    "        test.write(f'1\\n{random.randint(1, based_death)}\\n')"
   ]
  }
 ],
 "metadata": {
  "kernelspec": {
   "display_name": "Python 3 (ipykernel)",
   "language": "python",
   "name": "python3"
  },
  "language_info": {
   "codemirror_mode": {
    "name": "ipython",
    "version": 3
   },
   "file_extension": ".py",
   "mimetype": "text/x-python",
   "name": "python",
   "nbconvert_exporter": "python",
   "pygments_lexer": "ipython3",
   "version": "3.9.7"
  }
 },
 "nbformat": 4,
 "nbformat_minor": 5
}
